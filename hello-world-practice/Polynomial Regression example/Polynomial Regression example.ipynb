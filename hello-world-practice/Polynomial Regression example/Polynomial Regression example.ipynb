{
 "cells": [
  {
   "cell_type": "markdown",
   "id": "ddcec9ca",
   "metadata": {},
   "source": [
    "# Polynomial Regression example"
   ]
  },
  {
   "cell_type": "markdown",
   "id": "026354f4",
   "metadata": {},
   "source": [
    "Get some practice implementing polynomial regression in this exercise. In data.csv, you can see data generated for one predictor feature ('Var_X') and one outcome feature ('Var_Y'), following a non-linear trend. Use sklearn's PolynomialFeatures class to extend the predictor feature column into multiple columns with polynomial features."
   ]
  },
  {
   "cell_type": "markdown",
   "id": "4b65ca6c",
   "metadata": {},
   "source": [
    "1. Load in the data\n",
    "\n",
    "- The data is in the file called 'data.csv'. Note that this data has a header line.\n",
    "- Make sure that you've split out the data into the predictor feature in X and outcome feature in y.\n",
    "- For X, make sure it is in a 2-d array of 20 rows by 1 column."
   ]
  },
  {
   "cell_type": "code",
   "execution_count": 3,
   "id": "da5e44bf",
   "metadata": {},
   "outputs": [],
   "source": [
    "import numpy as np\n",
    "import pandas as pd\n",
    "from sklearn.linear_model import LinearRegression\n",
    "from sklearn.preprocessing import PolynomialFeatures\n",
    "\n",
    "# Assign the data to predictor and outcome variables\n",
    "train_data = pd.read_csv('data.csv')\n",
    "X = train_data['Var_X'].values.reshape(-1, 1)\n",
    "y = train_data['Var_Y'].values"
   ]
  },
  {
   "cell_type": "markdown",
   "id": "20617e8d",
   "metadata": {},
   "source": [
    "2. Create polynomial features\n",
    "\n",
    "- Create an instance of sklearn's PolynomialFeatures class and assign it to the variable poly_feat. Pay attention to how to set the degree of features, since that will be how the exercise is evaluated.\n",
    "- Create the polynomial features by using the PolynomialFeatures object's .fit_transform() method. The \"fit\" side of the method considers how many features are needed in the output, and the \"transform\" side applies those considerations to the data provided to the method as an argument. Assign the new feature matrix to the X_poly variable."
   ]
  },
  {
   "cell_type": "code",
   "execution_count": 4,
   "id": "8ce07c20",
   "metadata": {},
   "outputs": [],
   "source": [
    "# Create polynomial features\n",
    "# predictor feature\n",
    "poly_feat = PolynomialFeatures(degree = 4)\n",
    "X_poly = poly_feat.fit_transform(X)"
   ]
  },
  {
   "cell_type": "markdown",
   "id": "042663de",
   "metadata": {},
   "source": [
    "3. Build a polynomial regression model\n",
    "\n",
    "- Create a polynomial regression model by combining sklearn's LinearRegression class with the polynomial features. Assign the fit model to poly_model."
   ]
  },
  {
   "cell_type": "code",
   "execution_count": 5,
   "id": "f13e2c28",
   "metadata": {},
   "outputs": [],
   "source": [
    "# Make and fit the polynomial regression model\n",
    "# features\n",
    "poly_model = LinearRegression(fit_intercept = False).fit(X_poly, y)"
   ]
  },
  {
   "cell_type": "code",
   "execution_count": 6,
   "id": "a80a8785",
   "metadata": {},
   "outputs": [
    {
     "data": {
      "text/plain": [
       "LinearRegression(fit_intercept=False)"
      ]
     },
     "execution_count": 6,
     "metadata": {},
     "output_type": "execute_result"
    }
   ],
   "source": [
    "poly_model"
   ]
  },
  {
   "cell_type": "code",
   "execution_count": null,
   "id": "28850342",
   "metadata": {},
   "outputs": [],
   "source": []
  }
 ],
 "metadata": {
  "kernelspec": {
   "display_name": "Python 3 (ipykernel)",
   "language": "python",
   "name": "python3"
  },
  "language_info": {
   "codemirror_mode": {
    "name": "ipython",
    "version": 3
   },
   "file_extension": ".py",
   "mimetype": "text/x-python",
   "name": "python",
   "nbconvert_exporter": "python",
   "pygments_lexer": "ipython3",
   "version": "3.9.7"
  }
 },
 "nbformat": 4,
 "nbformat_minor": 5
}
