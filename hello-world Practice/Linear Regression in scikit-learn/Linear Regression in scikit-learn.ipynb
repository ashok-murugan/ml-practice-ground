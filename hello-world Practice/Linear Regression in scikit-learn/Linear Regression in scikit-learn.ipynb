{
 "cells": [
  {
   "cell_type": "markdown",
   "id": "23a25873",
   "metadata": {},
   "source": [
    "# Linear Regression to predict life expectancy from body mass index (BMI)."
   ]
  },
  {
   "cell_type": "markdown",
   "id": "7de2f54e",
   "metadata": {},
   "source": [
    "This data on the average life expectancy at birth and the average BMI for males across the world. The data comes from Gapminder.  \n",
    "  \n",
    "The data file can be found under the \"bmi_and_life_expectancy.csv\" tab in the quiz below. It includes three columns, containing the following data:  \n",
    "\n",
    "- Country – The country the person was born in.\n",
    "- Life expectancy – The average life expectancy at birth for a person in that country.\n",
    "- BMI – The mean BMI of males in that country."
   ]
  },
  {
   "cell_type": "code",
   "execution_count": 28,
   "id": "e527e852",
   "metadata": {},
   "outputs": [],
   "source": [
    "# TODO: Add import statements\n",
    "import pandas as pd\n",
    "import numpy as np\n",
    "from sklearn.linear_model import LinearRegression"
   ]
  },
  {
   "cell_type": "markdown",
   "id": "0215da3f",
   "metadata": {},
   "source": [
    "1. Load the data\n",
    "\n",
    "- The data is in the file called \"bmi_and_life_expectancy.csv\".  \n",
    "- Use pandas read_csv to load the data into a dataframe (don't forget to import pandas!)  \n",
    "- Assign the dataframe to the variable bmi_life_data.  "
   ]
  },
  {
   "cell_type": "code",
   "execution_count": 12,
   "id": "517a5cc2",
   "metadata": {},
   "outputs": [],
   "source": [
    "# Assign the dataframe to this variable.\n",
    "bmi_life_data = pd.read_csv(\"bmi_and_life_expectancy.csv\")"
   ]
  },
  {
   "cell_type": "markdown",
   "id": "5f6ee851",
   "metadata": {},
   "source": [
    "2. Build a linear regression model\n",
    "\n",
    "- Create a regression model using scikit-learn's LinearRegression and assign it to bmi_life_model.\n",
    "- Fit the model to the data."
   ]
  },
  {
   "cell_type": "code",
   "execution_count": 32,
   "id": "a71443c6",
   "metadata": {},
   "outputs": [
    {
     "data": {
      "text/plain": [
       "LinearRegression()"
      ]
     },
     "execution_count": 32,
     "metadata": {},
     "output_type": "execute_result"
    }
   ],
   "source": [
    "# Make and fit the linear regression model\n",
    "bmi_life_model = LinearRegression()\n",
    "bmi_life_model.fit(bmi_life_data[['BMI']], bmi_life_data[['Life expectancy']])"
   ]
  },
  {
   "cell_type": "markdown",
   "id": "fdb4b9f7",
   "metadata": {},
   "source": [
    "3. Predict using the model\n",
    "\n",
    "- Predict using a BMI of 21.07931 and assign it to the variable laos_life_exp."
   ]
  },
  {
   "cell_type": "code",
   "execution_count": 43,
   "id": "ef48d25d",
   "metadata": {
    "scrolled": true
   },
   "outputs": [],
   "source": [
    "# Mak a prediction using the model\n",
    "laos_life_exp = bmi_life_model.predict(np.array([21.07931]).reshape(1, 1))"
   ]
  },
  {
   "cell_type": "code",
   "execution_count": 44,
   "id": "3a0f6327",
   "metadata": {},
   "outputs": [
    {
     "data": {
      "text/plain": [
       "array([[60.31564716]])"
      ]
     },
     "execution_count": 44,
     "metadata": {},
     "output_type": "execute_result"
    }
   ],
   "source": [
    "laos_life_exp"
   ]
  },
  {
   "cell_type": "code",
   "execution_count": null,
   "id": "10764a49",
   "metadata": {},
   "outputs": [],
   "source": []
  }
 ],
 "metadata": {
  "kernelspec": {
   "display_name": "Python 3 (ipykernel)",
   "language": "python",
   "name": "python3"
  },
  "language_info": {
   "codemirror_mode": {
    "name": "ipython",
    "version": 3
   },
   "file_extension": ".py",
   "mimetype": "text/x-python",
   "name": "python",
   "nbconvert_exporter": "python",
   "pygments_lexer": "ipython3",
   "version": "3.9.7"
  }
 },
 "nbformat": 4,
 "nbformat_minor": 5
}
